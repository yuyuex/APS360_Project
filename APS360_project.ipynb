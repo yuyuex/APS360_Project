{
  "nbformat": 4,
  "nbformat_minor": 0,
  "metadata": {
    "colab": {
      "name": "APS360 project.ipynb",
      "provenance": [],
      "collapsed_sections": [],
      "toc_visible": true
    },
    "kernelspec": {
      "name": "python3",
      "display_name": "Python 3"
    }
  },
  "cells": [
    {
      "cell_type": "code",
      "metadata": {
        "id": "wGuBxzGC4Y_9",
        "colab_type": "code",
        "colab": {
          "base_uri": "https://localhost:8080/",
          "height": 54
        },
        "outputId": "98a44ed3-c066-4021-b45a-c13d18386aa1"
      },
      "source": [
        "from google.colab import drive\n",
        "drive.mount('/content/drive')"
      ],
      "execution_count": 2,
      "outputs": [
        {
          "output_type": "stream",
          "text": [
            "Drive already mounted at /content/drive; to attempt to forcibly remount, call drive.mount(\"/content/drive\", force_remount=True).\n"
          ],
          "name": "stdout"
        }
      ]
    },
    {
      "cell_type": "code",
      "metadata": {
        "id": "L1d0n2OU4r4n",
        "colab_type": "code",
        "colab": {}
      },
      "source": [
        "player_path = '/content/nba_summary_17_19.csv'\n",
        "team_path = '/content/team_boxscores_2017_2018.csv'"
      ],
      "execution_count": 0,
      "outputs": []
    },
    {
      "cell_type": "code",
      "metadata": {
        "id": "j_aAjzxE5na9",
        "colab_type": "code",
        "colab": {}
      },
      "source": [
        "import pandas as pd\n",
        "player_df = pd.read_csv(player_path)\n",
        "team_df = pd.read_csv(team_path)"
      ],
      "execution_count": 0,
      "outputs": []
    },
    {
      "cell_type": "code",
      "metadata": {
        "id": "_x5ao2HVDs0B",
        "colab_type": "code",
        "colab": {
          "base_uri": "https://localhost:8080/",
          "height": 510
        },
        "outputId": "8b975ffe-821f-4668-e3ec-edda4aa709af"
      },
      "source": [
        "print(player_df.columns, '\\n\\n',team_df.columns)"
      ],
      "execution_count": 23,
      "outputs": [
        {
          "output_type": "stream",
          "text": [
            "Index(['id', 'created_on', 'updated_on', 'source', 'is_duplicated',\n",
            "       'display_name', 'match_id', 'team_id', 'team_abbr', 'team_city',\n",
            "       'player_id', 'player_name', 'start_position', 'comment', 'min', 'fgm',\n",
            "       'fga', 'fg_pct', 'fg3m', 'fg3a', 'fg3_pct', 'ftm', 'fta', 'ft_pct',\n",
            "       'oreb', 'dreb', 'reb', 'ast', 'stl', 'blk', 'to', 'pf', 'pts',\n",
            "       'plus_minus', 'ast_pct', 'ast_ratio', 'ast_tov', 'blka', 'def_rating',\n",
            "       'dreb_pct', 'e_def_rating', 'e_net_rating', 'e_off_rating', 'e_pace',\n",
            "       'e_usg_pct', 'efg_pct', 'net_rating', 'off_rating',\n",
            "       'opp_pts_2nd_chance', 'opp_pts_fb', 'opp_pts_off_tov', 'opp_pts_paint',\n",
            "       'oreb_pct', 'pace', 'pfd', 'pie', 'pts_2nd_chance', 'pts_fb',\n",
            "       'pts_off_tov', 'pts_paint', 'reb_pct', 'tm_tov_pct', 'ts_pct',\n",
            "       'usg_pct', 'granularity', 'per_mode', 'season_id', 'dd2', 'fp', 'gp',\n",
            "       'td3', 'hometeam_id', 'hometeam_abbr', 'visitorteam_id',\n",
            "       'visitorteam_abbr', 'final_hscore', 'final_vscore',\n",
            "       'player_position_code', 'player_height', 'player_weight', 'season'],\n",
            "      dtype='object') \n",
            "\n",
            " Index(['match_id', 'team_id', 'team_name_x', 'team_abbr', 'team_city', 'min',\n",
            "       'fgm', 'fga', 'fg_pct', 'fg3m', 'fg3a', 'fg3_pct', 'ftm', 'fta',\n",
            "       'ft_pct', 'oreb', 'dreb', 'reb', 'ast', 'stl', 'blk', 'to', 'pf', 'pts',\n",
            "       'plus_minus', 'source', 'team_name_y', 'e_off_rating', 'off_rating',\n",
            "       'e_def_rating', 'def_rating', 'e_net_rating', 'net_rating', 'ast_pct',\n",
            "       'ast_tov', 'ast_ratio', 'oreb_pct', 'dreb_pct', 'reb_pct',\n",
            "       'e_tm_tov_pct', 'tm_tov_pct', 'efg_pct', 'ts_pct', 'usg_pct',\n",
            "       'e_usg_pct', 'e_pace', 'pace', 'pie', 'team_name', 'pts_off_tov',\n",
            "       'pts_2nd_chance', 'pts_fb', 'pts_paint', 'opp_pts_off_tov',\n",
            "       'opp_pts_2nd_chance', 'opp_pts_fb', 'opp_pts_paint', 'blka', 'pfd',\n",
            "       'granularity', 'season_id', 'per_mode'],\n",
            "      dtype='object')\n"
          ],
          "name": "stdout"
        }
      ]
    },
    {
      "cell_type": "code",
      "metadata": {
        "id": "mMdiH6kd8JpL",
        "colab_type": "code",
        "colab": {
          "base_uri": "https://localhost:8080/",
          "height": 34
        },
        "outputId": "37a1cfe9-4933-4da7-99a2-1ecc8d88c678"
      },
      "source": [
        "# dataframe property\n",
        "print(player_df.shape, team_df.shape)"
      ],
      "execution_count": 24,
      "outputs": [
        {
          "output_type": "stream",
          "text": [
            "(69863, 81) (5538, 62)\n"
          ],
          "name": "stdout"
        }
      ]
    },
    {
      "cell_type": "code",
      "metadata": {
        "id": "_6Na5k1W5tsr",
        "colab_type": "code",
        "colab": {
          "base_uri": "https://localhost:8080/",
          "height": 34
        },
        "outputId": "bfa95df7-0287-4786-88c3-848194017404"
      },
      "source": [
        "# filter match ids\n",
        "match_id_field = list(player_df['match_id']) + list(team_df['match_id'])\n",
        "unwanted_ids = [i for i in match_id_field if str(i)[0] != '2']\n",
        "print(\"unwanted match_id number: \", len(unwanted_ids))"
      ],
      "execution_count": 25,
      "outputs": [
        {
          "output_type": "stream",
          "text": [
            "unwanted match_id number:  9665\n"
          ],
          "name": "stdout"
        }
      ]
    },
    {
      "cell_type": "code",
      "metadata": {
        "id": "_Wc2g5rl8GTU",
        "colab_type": "code",
        "colab": {
          "base_uri": "https://localhost:8080/",
          "height": 34
        },
        "outputId": "ea2e8af3-c67a-49f9-a0fa-aeb25e59223c"
      },
      "source": [
        "# assumption testing -> match id is always 8 digits\n",
        "match_id_len = [len(str(i)) == 8 for i in match_id_field]\n",
        "print(\"Assumption is tested to be: \", all(match_id_len))"
      ],
      "execution_count": 26,
      "outputs": [
        {
          "output_type": "stream",
          "text": [
            "Assumption is tested to be:  True\n"
          ],
          "name": "stdout"
        }
      ]
    },
    {
      "cell_type": "code",
      "metadata": {
        "id": "E3i6_I546WNL",
        "colab_type": "code",
        "colab": {}
      },
      "source": [
        "# regular season match ids start with 2\n",
        "# Filter all those starting with 2\n",
        "def remove_non_nba(data):\n",
        "  return data[(data['match_id'] >= 20000000) & (data['match_id'] < 30000000)]"
      ],
      "execution_count": 0,
      "outputs": []
    },
    {
      "cell_type": "code",
      "metadata": {
        "id": "DA9SrgFZ9jZT",
        "colab_type": "code",
        "colab": {
          "base_uri": "https://localhost:8080/",
          "height": 34
        },
        "outputId": "105775cd-481e-4168-f253-8086d6a87426"
      },
      "source": [
        "# test match_id filter\n",
        "nba_player_df = remove_non_nba(player_df)  # nba df is all match within nba(match id starts with 2)\n",
        "nba_team_df = remove_non_nba(team_df)\n",
        "print(\"Rows filtered out: \", (player_df.shape[0] + team_df.shape[0]) - (nba_player_df.shape[0] + nba_team_df.shape[0]))"
      ],
      "execution_count": 105,
      "outputs": [
        {
          "output_type": "stream",
          "text": [
            "Rows filtered out:  9665\n"
          ],
          "name": "stdout"
        }
      ]
    },
    {
      "cell_type": "code",
      "metadata": {
        "id": "12KfTplo_yRI",
        "colab_type": "code",
        "colab": {
          "base_uri": "https://localhost:8080/",
          "height": 34
        },
        "outputId": "8fbd3079-3ea3-4ee6-a556-d69f4ea10fc7"
      },
      "source": [
        "# Now we try to understand the season data\n",
        "season_id_field = list(set(player_df['season'])) + list(set(team_df['season_id']))\n",
        "print(\"Season ids are: \", season_id_field)"
      ],
      "execution_count": 88,
      "outputs": [
        {
          "output_type": "stream",
          "text": [
            "Season ids are:  ['2018-19', '2017-18', 22017, 22018]\n"
          ],
          "name": "stdout"
        }
      ]
    },
    {
      "cell_type": "code",
      "metadata": {
        "id": "C8NdAEFcF_C5",
        "colab_type": "code",
        "colab": {}
      },
      "source": [
        "# convert season_id for consistency\n",
        "pd.options.mode.chained_assignment = None\n",
        "nba_player_df = nba_player_df.astype({'season_id':int})\n",
        "nba_player_df.loc[nba_player_df['season'] == '2018-19', 'season_id'] = 22018\n",
        "nba_player_df.loc[nba_player_df['season'] == '2017-18', 'season_id'] = 22017"
      ],
      "execution_count": 0,
      "outputs": []
    },
    {
      "cell_type": "code",
      "metadata": {
        "id": "0x2s8RuI-A8i",
        "colab_type": "code",
        "colab": {}
      },
      "source": [
        "# The data contains 2 seasons\n",
        "# Separate 2017 and 2018 season\n",
        "# Look at season_id attribute\n",
        "def separate_season(data):\n",
        "  return data[data['season_id'] == 22017], data[data['season_id'] == 22018]"
      ],
      "execution_count": 0,
      "outputs": []
    },
    {
      "cell_type": "code",
      "metadata": {
        "id": "v3OWi_rGAjEO",
        "colab_type": "code",
        "colab": {
          "base_uri": "https://localhost:8080/",
          "height": 34
        },
        "outputId": "dea88048-fb1a-451b-d3ce-3d86aab2c391"
      },
      "source": [
        "# separate data based on season\n",
        "player17_df, player18_df = separate_season(nba_player_df)\n",
        "team17_df, team18_df = separate_season(nba_team_df)\n",
        "print(player17_df.shape, player18_df.shape, team17_df.shape, team18_df.shape)"
      ],
      "execution_count": 225,
      "outputs": [
        {
          "output_type": "stream",
          "text": [
            "(30020, 81) (30796, 81) (2460, 62) (2460, 62)\n"
          ],
          "name": "stdout"
        }
      ]
    },
    {
      "cell_type": "code",
      "metadata": {
        "id": "yFwhEeHFBGnu",
        "colab_type": "code",
        "colab": {}
      },
      "source": [
        "# add a home/ away column to team df\n",
        "def bool_home_away(player, team):\n",
        "  # Use the players dataset\n",
        "  # Compare team_id with hometeam_id\n",
        "  # Then use match_ids in the two datasets to take home/away boolean\n",
        "  # from players dataset to team dataset\n",
        "  isHome = player['team_id'] == player['hometeam_id']\n",
        "  player = player.assign(isHome = isHome.values)\n",
        "  team = team.merge(player[['match_id', 'team_id', 'isHome']], on=['match_id', 'team_id'], how = 'left')\n",
        "  team.drop_duplicates(inplace=True)\n",
        "  return player, team"
      ],
      "execution_count": 0,
      "outputs": []
    },
    {
      "cell_type": "code",
      "metadata": {
        "id": "7kdeQhE_UjNq",
        "colab_type": "code",
        "colab": {
          "base_uri": "https://localhost:8080/",
          "height": 34
        },
        "outputId": "9fc31507-908b-48b2-e066-ad002c615f92"
      },
      "source": [
        "# add isHome to both player and team df\n",
        "player17, team17 = bool_home_away(player17_df, team17_df)\n",
        "player18, team18 = bool_home_away(player18_df, team18_df)\n",
        "print(player17.shape, player18.shape, team17.shape, team18.shape)"
      ],
      "execution_count": 226,
      "outputs": [
        {
          "output_type": "stream",
          "text": [
            "(30020, 82) (30796, 82) (2460, 63) (2460, 63)\n"
          ],
          "name": "stdout"
        }
      ]
    },
    {
      "cell_type": "code",
      "metadata": {
        "id": "LGTCycEihLkL",
        "colab_type": "code",
        "colab": {
          "base_uri": "https://localhost:8080/",
          "height": 224
        },
        "outputId": "5c3521f1-d3ac-4d9e-c329-f54aec15f493"
      },
      "source": [
        "team17.head()"
      ],
      "execution_count": 228,
      "outputs": [
        {
          "output_type": "execute_result",
          "data": {
            "text/html": [
              "<div>\n",
              "<style scoped>\n",
              "    .dataframe tbody tr th:only-of-type {\n",
              "        vertical-align: middle;\n",
              "    }\n",
              "\n",
              "    .dataframe tbody tr th {\n",
              "        vertical-align: top;\n",
              "    }\n",
              "\n",
              "    .dataframe thead th {\n",
              "        text-align: right;\n",
              "    }\n",
              "</style>\n",
              "<table border=\"1\" class=\"dataframe\">\n",
              "  <thead>\n",
              "    <tr style=\"text-align: right;\">\n",
              "      <th></th>\n",
              "      <th>match_id</th>\n",
              "      <th>team_id</th>\n",
              "      <th>team_name_x</th>\n",
              "      <th>team_abbr</th>\n",
              "      <th>team_city</th>\n",
              "      <th>min</th>\n",
              "      <th>fgm</th>\n",
              "      <th>fga</th>\n",
              "      <th>fg_pct</th>\n",
              "      <th>fg3m</th>\n",
              "      <th>fg3a</th>\n",
              "      <th>fg3_pct</th>\n",
              "      <th>ftm</th>\n",
              "      <th>fta</th>\n",
              "      <th>ft_pct</th>\n",
              "      <th>oreb</th>\n",
              "      <th>dreb</th>\n",
              "      <th>reb</th>\n",
              "      <th>ast</th>\n",
              "      <th>stl</th>\n",
              "      <th>blk</th>\n",
              "      <th>to</th>\n",
              "      <th>pf</th>\n",
              "      <th>pts</th>\n",
              "      <th>plus_minus</th>\n",
              "      <th>source</th>\n",
              "      <th>team_name_y</th>\n",
              "      <th>e_off_rating</th>\n",
              "      <th>off_rating</th>\n",
              "      <th>e_def_rating</th>\n",
              "      <th>def_rating</th>\n",
              "      <th>e_net_rating</th>\n",
              "      <th>net_rating</th>\n",
              "      <th>ast_pct</th>\n",
              "      <th>ast_tov</th>\n",
              "      <th>ast_ratio</th>\n",
              "      <th>oreb_pct</th>\n",
              "      <th>dreb_pct</th>\n",
              "      <th>reb_pct</th>\n",
              "      <th>e_tm_tov_pct</th>\n",
              "      <th>tm_tov_pct</th>\n",
              "      <th>efg_pct</th>\n",
              "      <th>ts_pct</th>\n",
              "      <th>usg_pct</th>\n",
              "      <th>e_usg_pct</th>\n",
              "      <th>e_pace</th>\n",
              "      <th>pace</th>\n",
              "      <th>pie</th>\n",
              "      <th>team_name</th>\n",
              "      <th>pts_off_tov</th>\n",
              "      <th>pts_2nd_chance</th>\n",
              "      <th>pts_fb</th>\n",
              "      <th>pts_paint</th>\n",
              "      <th>opp_pts_off_tov</th>\n",
              "      <th>opp_pts_2nd_chance</th>\n",
              "      <th>opp_pts_fb</th>\n",
              "      <th>opp_pts_paint</th>\n",
              "      <th>blka</th>\n",
              "      <th>pfd</th>\n",
              "      <th>granularity</th>\n",
              "      <th>season_id</th>\n",
              "      <th>per_mode</th>\n",
              "      <th>isHome</th>\n",
              "    </tr>\n",
              "  </thead>\n",
              "  <tbody>\n",
              "    <tr>\n",
              "      <th>0</th>\n",
              "      <td>21700366</td>\n",
              "      <td>1610612762</td>\n",
              "      <td>Jazz</td>\n",
              "      <td>UTA</td>\n",
              "      <td>Utah</td>\n",
              "      <td>240.0</td>\n",
              "      <td>34</td>\n",
              "      <td>77</td>\n",
              "      <td>0.442</td>\n",
              "      <td>11</td>\n",
              "      <td>30</td>\n",
              "      <td>0.367</td>\n",
              "      <td>22</td>\n",
              "      <td>27</td>\n",
              "      <td>0.815</td>\n",
              "      <td>4</td>\n",
              "      <td>28</td>\n",
              "      <td>32</td>\n",
              "      <td>17</td>\n",
              "      <td>10</td>\n",
              "      <td>5</td>\n",
              "      <td>13</td>\n",
              "      <td>21</td>\n",
              "      <td>101</td>\n",
              "      <td>-11.0</td>\n",
              "      <td>https://stats.nba.com</td>\n",
              "      <td>Jazz</td>\n",
              "      <td>103.2</td>\n",
              "      <td>105.2</td>\n",
              "      <td>111.4</td>\n",
              "      <td>114.3</td>\n",
              "      <td>-8.2</td>\n",
              "      <td>-9.1</td>\n",
              "      <td>0.500</td>\n",
              "      <td>1.31</td>\n",
              "      <td>14.3</td>\n",
              "      <td>0.130</td>\n",
              "      <td>0.696</td>\n",
              "      <td>0.413</td>\n",
              "      <td>13.282</td>\n",
              "      <td>13.5</td>\n",
              "      <td>0.513</td>\n",
              "      <td>0.568</td>\n",
              "      <td>1.0</td>\n",
              "      <td>0.200</td>\n",
              "      <td>99.22</td>\n",
              "      <td>97.0</td>\n",
              "      <td>0.446</td>\n",
              "      <td>Jazz</td>\n",
              "      <td>24.0</td>\n",
              "      <td>11.0</td>\n",
              "      <td>15.0</td>\n",
              "      <td>42.0</td>\n",
              "      <td>15.0</td>\n",
              "      <td>15.0</td>\n",
              "      <td>11.0</td>\n",
              "      <td>36.0</td>\n",
              "      <td>5</td>\n",
              "      <td>25</td>\n",
              "      <td>team_game</td>\n",
              "      <td>22017</td>\n",
              "      <td>PerGame</td>\n",
              "      <td>True</td>\n",
              "    </tr>\n",
              "    <tr>\n",
              "      <th>12</th>\n",
              "      <td>21700366</td>\n",
              "      <td>1610612745</td>\n",
              "      <td>Rockets</td>\n",
              "      <td>HOU</td>\n",
              "      <td>Houston</td>\n",
              "      <td>240.0</td>\n",
              "      <td>38</td>\n",
              "      <td>81</td>\n",
              "      <td>0.469</td>\n",
              "      <td>18</td>\n",
              "      <td>42</td>\n",
              "      <td>0.429</td>\n",
              "      <td>18</td>\n",
              "      <td>24</td>\n",
              "      <td>0.750</td>\n",
              "      <td>8</td>\n",
              "      <td>38</td>\n",
              "      <td>46</td>\n",
              "      <td>22</td>\n",
              "      <td>10</td>\n",
              "      <td>5</td>\n",
              "      <td>17</td>\n",
              "      <td>25</td>\n",
              "      <td>112</td>\n",
              "      <td>11.0</td>\n",
              "      <td>https://stats.nba.com</td>\n",
              "      <td>Rockets</td>\n",
              "      <td>111.4</td>\n",
              "      <td>114.3</td>\n",
              "      <td>103.2</td>\n",
              "      <td>105.2</td>\n",
              "      <td>8.2</td>\n",
              "      <td>9.1</td>\n",
              "      <td>0.579</td>\n",
              "      <td>1.29</td>\n",
              "      <td>16.9</td>\n",
              "      <td>0.304</td>\n",
              "      <td>0.870</td>\n",
              "      <td>0.587</td>\n",
              "      <td>16.905</td>\n",
              "      <td>17.3</td>\n",
              "      <td>0.580</td>\n",
              "      <td>0.612</td>\n",
              "      <td>1.0</td>\n",
              "      <td>0.199</td>\n",
              "      <td>99.22</td>\n",
              "      <td>97.0</td>\n",
              "      <td>0.554</td>\n",
              "      <td>Rockets</td>\n",
              "      <td>15.0</td>\n",
              "      <td>15.0</td>\n",
              "      <td>11.0</td>\n",
              "      <td>36.0</td>\n",
              "      <td>24.0</td>\n",
              "      <td>11.0</td>\n",
              "      <td>15.0</td>\n",
              "      <td>42.0</td>\n",
              "      <td>5</td>\n",
              "      <td>21</td>\n",
              "      <td>team_game</td>\n",
              "      <td>22017</td>\n",
              "      <td>PerGame</td>\n",
              "      <td>False</td>\n",
              "    </tr>\n",
              "    <tr>\n",
              "      <th>24</th>\n",
              "      <td>21700507</td>\n",
              "      <td>1610612754</td>\n",
              "      <td>Pacers</td>\n",
              "      <td>IND</td>\n",
              "      <td>Indiana</td>\n",
              "      <td>240.0</td>\n",
              "      <td>38</td>\n",
              "      <td>79</td>\n",
              "      <td>0.481</td>\n",
              "      <td>10</td>\n",
              "      <td>25</td>\n",
              "      <td>0.400</td>\n",
              "      <td>8</td>\n",
              "      <td>10</td>\n",
              "      <td>0.800</td>\n",
              "      <td>7</td>\n",
              "      <td>32</td>\n",
              "      <td>39</td>\n",
              "      <td>27</td>\n",
              "      <td>8</td>\n",
              "      <td>4</td>\n",
              "      <td>15</td>\n",
              "      <td>17</td>\n",
              "      <td>94</td>\n",
              "      <td>-4.0</td>\n",
              "      <td>https://stats.nba.com</td>\n",
              "      <td>Pacers</td>\n",
              "      <td>102.8</td>\n",
              "      <td>105.6</td>\n",
              "      <td>108.2</td>\n",
              "      <td>110.1</td>\n",
              "      <td>-5.3</td>\n",
              "      <td>-4.5</td>\n",
              "      <td>0.711</td>\n",
              "      <td>1.80</td>\n",
              "      <td>21.5</td>\n",
              "      <td>0.262</td>\n",
              "      <td>0.833</td>\n",
              "      <td>0.548</td>\n",
              "      <td>16.411</td>\n",
              "      <td>16.9</td>\n",
              "      <td>0.544</td>\n",
              "      <td>0.564</td>\n",
              "      <td>1.0</td>\n",
              "      <td>0.199</td>\n",
              "      <td>91.00</td>\n",
              "      <td>89.0</td>\n",
              "      <td>0.477</td>\n",
              "      <td>Pacers</td>\n",
              "      <td>8.0</td>\n",
              "      <td>8.0</td>\n",
              "      <td>3.0</td>\n",
              "      <td>34.0</td>\n",
              "      <td>18.0</td>\n",
              "      <td>4.0</td>\n",
              "      <td>15.0</td>\n",
              "      <td>46.0</td>\n",
              "      <td>3</td>\n",
              "      <td>12</td>\n",
              "      <td>team_game</td>\n",
              "      <td>22017</td>\n",
              "      <td>PerGame</td>\n",
              "      <td>True</td>\n",
              "    </tr>\n",
              "    <tr>\n",
              "      <th>36</th>\n",
              "      <td>21700507</td>\n",
              "      <td>1610612742</td>\n",
              "      <td>Mavericks</td>\n",
              "      <td>DAL</td>\n",
              "      <td>Dallas</td>\n",
              "      <td>240.0</td>\n",
              "      <td>40</td>\n",
              "      <td>78</td>\n",
              "      <td>0.513</td>\n",
              "      <td>8</td>\n",
              "      <td>29</td>\n",
              "      <td>0.276</td>\n",
              "      <td>10</td>\n",
              "      <td>15</td>\n",
              "      <td>0.667</td>\n",
              "      <td>4</td>\n",
              "      <td>31</td>\n",
              "      <td>35</td>\n",
              "      <td>26</td>\n",
              "      <td>7</td>\n",
              "      <td>3</td>\n",
              "      <td>9</td>\n",
              "      <td>12</td>\n",
              "      <td>98</td>\n",
              "      <td>4.0</td>\n",
              "      <td>https://stats.nba.com</td>\n",
              "      <td>Mavericks</td>\n",
              "      <td>108.2</td>\n",
              "      <td>110.1</td>\n",
              "      <td>102.8</td>\n",
              "      <td>105.6</td>\n",
              "      <td>5.3</td>\n",
              "      <td>4.5</td>\n",
              "      <td>0.650</td>\n",
              "      <td>2.60</td>\n",
              "      <td>21.6</td>\n",
              "      <td>0.167</td>\n",
              "      <td>0.738</td>\n",
              "      <td>0.452</td>\n",
              "      <td>11.038</td>\n",
              "      <td>11.2</td>\n",
              "      <td>0.564</td>\n",
              "      <td>0.579</td>\n",
              "      <td>1.0</td>\n",
              "      <td>0.197</td>\n",
              "      <td>91.00</td>\n",
              "      <td>89.0</td>\n",
              "      <td>0.523</td>\n",
              "      <td>Mavericks</td>\n",
              "      <td>18.0</td>\n",
              "      <td>4.0</td>\n",
              "      <td>15.0</td>\n",
              "      <td>46.0</td>\n",
              "      <td>8.0</td>\n",
              "      <td>8.0</td>\n",
              "      <td>3.0</td>\n",
              "      <td>34.0</td>\n",
              "      <td>4</td>\n",
              "      <td>17</td>\n",
              "      <td>team_game</td>\n",
              "      <td>22017</td>\n",
              "      <td>PerGame</td>\n",
              "      <td>False</td>\n",
              "    </tr>\n",
              "    <tr>\n",
              "      <th>47</th>\n",
              "      <td>21700105</td>\n",
              "      <td>1610612749</td>\n",
              "      <td>Bucks</td>\n",
              "      <td>MIL</td>\n",
              "      <td>Milwaukee</td>\n",
              "      <td>240.0</td>\n",
              "      <td>45</td>\n",
              "      <td>91</td>\n",
              "      <td>0.495</td>\n",
              "      <td>19</td>\n",
              "      <td>36</td>\n",
              "      <td>0.528</td>\n",
              "      <td>12</td>\n",
              "      <td>15</td>\n",
              "      <td>0.800</td>\n",
              "      <td>9</td>\n",
              "      <td>31</td>\n",
              "      <td>40</td>\n",
              "      <td>29</td>\n",
              "      <td>3</td>\n",
              "      <td>3</td>\n",
              "      <td>14</td>\n",
              "      <td>25</td>\n",
              "      <td>121</td>\n",
              "      <td>-5.0</td>\n",
              "      <td>https://stats.nba.com</td>\n",
              "      <td>Bucks</td>\n",
              "      <td>117.9</td>\n",
              "      <td>123.5</td>\n",
              "      <td>125.0</td>\n",
              "      <td>128.6</td>\n",
              "      <td>-7.1</td>\n",
              "      <td>-5.1</td>\n",
              "      <td>0.644</td>\n",
              "      <td>2.07</td>\n",
              "      <td>20.6</td>\n",
              "      <td>0.277</td>\n",
              "      <td>0.750</td>\n",
              "      <td>0.505</td>\n",
              "      <td>13.645</td>\n",
              "      <td>14.3</td>\n",
              "      <td>0.599</td>\n",
              "      <td>0.620</td>\n",
              "      <td>1.0</td>\n",
              "      <td>0.195</td>\n",
              "      <td>101.68</td>\n",
              "      <td>98.0</td>\n",
              "      <td>0.468</td>\n",
              "      <td>Bucks</td>\n",
              "      <td>11.0</td>\n",
              "      <td>17.0</td>\n",
              "      <td>13.0</td>\n",
              "      <td>40.0</td>\n",
              "      <td>19.0</td>\n",
              "      <td>15.0</td>\n",
              "      <td>5.0</td>\n",
              "      <td>52.0</td>\n",
              "      <td>3</td>\n",
              "      <td>18</td>\n",
              "      <td>team_game</td>\n",
              "      <td>22017</td>\n",
              "      <td>PerGame</td>\n",
              "      <td>False</td>\n",
              "    </tr>\n",
              "  </tbody>\n",
              "</table>\n",
              "</div>"
            ],
            "text/plain": [
              "    match_id     team_id team_name_x  ... season_id per_mode  isHome\n",
              "0   21700366  1610612762        Jazz  ...     22017  PerGame    True\n",
              "12  21700366  1610612745     Rockets  ...     22017  PerGame   False\n",
              "24  21700507  1610612754      Pacers  ...     22017  PerGame    True\n",
              "36  21700507  1610612742   Mavericks  ...     22017  PerGame   False\n",
              "47  21700105  1610612749       Bucks  ...     22017  PerGame   False\n",
              "\n",
              "[5 rows x 63 columns]"
            ]
          },
          "metadata": {
            "tags": []
          },
          "execution_count": 228
        }
      ]
    },
    {
      "cell_type": "code",
      "metadata": {
        "id": "bHDfR_huht1B",
        "colab_type": "code",
        "colab": {}
      },
      "source": [
        ""
      ],
      "execution_count": 0,
      "outputs": []
    }
  ]
}